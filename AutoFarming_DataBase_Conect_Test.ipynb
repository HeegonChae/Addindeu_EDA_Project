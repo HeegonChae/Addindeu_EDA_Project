{
 "cells": [
  {
   "cell_type": "code",
   "execution_count": 1,
   "metadata": {},
   "outputs": [],
   "source": [
    "import mysql.connector"
   ]
  },
  {
   "cell_type": "code",
   "execution_count": 13,
   "metadata": {},
   "outputs": [],
   "source": [
    "kang = mysql.connector.connect(\n",
    "    host = \"database-1.cdv9nppqt3kw.ap-northeast-2.rds.amazonaws.com\",\n",
    "    port = 3306,\n",
    "    user = \"kang\",\n",
    "    password = \"0445\",\n",
    "    database = \"AutoFarming\"\n",
    ")"
   ]
  },
  {
   "cell_type": "code",
   "execution_count": 15,
   "metadata": {},
   "outputs": [],
   "source": [
    "son = mysql.connector.connect(\n",
    "    host = \"database-1.cdv9nppqt3kw.ap-northeast-2.rds.amazonaws.com\",\n",
    "    port = 3306,\n",
    "    user = \"son\",\n",
    "    password = \"0554\",\n",
    "    database = \"AutoFarming\"\n",
    ")"
   ]
  },
  {
   "cell_type": "code",
   "execution_count": 16,
   "metadata": {},
   "outputs": [],
   "source": [
    "hyun = mysql.connector.connect(\n",
    "    host = \"database-1.cdv9nppqt3kw.ap-northeast-2.rds.amazonaws.com\",\n",
    "    port = 3306,\n",
    "    user = \"hyun\",\n",
    "    password = \"0774\",\n",
    "    database = \"AutoFarming\"\n",
    ")"
   ]
  },
  {
   "cell_type": "code",
   "execution_count": 17,
   "metadata": {},
   "outputs": [],
   "source": [
    "chae = mysql.connector.connect(\n",
    "    host = \"database-1.cdv9nppqt3kw.ap-northeast-2.rds.amazonaws.com\",\n",
    "    port = 3306,\n",
    "    user = \"chae\",\n",
    "    password = \"0754\",\n",
    "    database = \"AutoFarming\"\n",
    ")"
   ]
  },
  {
   "cell_type": "code",
   "execution_count": 19,
   "metadata": {},
   "outputs": [],
   "source": [
    "jang = mysql.connector.connect(\n",
    "    host = \"database-1.cdv9nppqt3kw.ap-northeast-2.rds.amazonaws.com\",\n",
    "    port = 3306,\n",
    "    user = \"jang\",\n",
    "    password = \"0676\",\n",
    "    database = \"AutoFarming\"\n",
    ")"
   ]
  }
 ],
 "metadata": {
  "kernelspec": {
   "display_name": "eda_venv",
   "language": "python",
   "name": "python3"
  },
  "language_info": {
   "codemirror_mode": {
    "name": "ipython",
    "version": 3
   },
   "file_extension": ".py",
   "mimetype": "text/x-python",
   "name": "python",
   "nbconvert_exporter": "python",
   "pygments_lexer": "ipython3",
   "version": "3.10.12"
  }
 },
 "nbformat": 4,
 "nbformat_minor": 2
}
