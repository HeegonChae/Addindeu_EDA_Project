{
 "cells": [
  {
   "cell_type": "code",
   "execution_count": 1,
   "metadata": {},
   "outputs": [],
   "source": [
    "import mysql.connector"
   ]
  },
  {
   "cell_type": "code",
   "execution_count": 13,
   "metadata": {},
   "outputs": [],
   "source": [
    "kang = mysql.connector.connect(\n",
    "    host = \"endpoint_address\",\n",
    "    port = 3306,\n",
    "    user = \"kang\",\n",
    "    password = \"*******\",\n",
    "    database = \"AutoFarming\"\n",
    ")"
   ]
  },
  {
   "cell_type": "code",
   "execution_count": 15,
   "metadata": {},
   "outputs": [],
   "source": [
    "son = mysql.connector.connect(\n",
    "    host = \"endpoint_address\",\n",
    "    port = 3306,\n",
    "    user = \"son\",\n",
    "    password = \"*******\",\n",
    "    database = \"AutoFarming\"\n",
    ")"
   ]
  },
  {
   "cell_type": "code",
   "execution_count": 16,
   "metadata": {},
   "outputs": [],
   "source": [
    "hyun = mysql.connector.connect(\n",
    "    host = \"endpoint_address\",\n",
    "    port = 3306,\n",
    "    user = \"hyun\",\n",
    "    password = \"*******\",\n",
    "    database = \"AutoFarming\"\n",
    ")"
   ]
  },
  {
   "cell_type": "code",
   "execution_count": 17,
   "metadata": {},
   "outputs": [],
   "source": [
    "chae = mysql.connector.connect(\n",
    "    host = \"endpoint_address\",\n",
    "    port = 3306,\n",
    "    user = \"chae\",\n",
    "    password = \"*******\",\n",
    "    database = \"AutoFarming\"\n",
    ")"
   ]
  },
  {
   "cell_type": "code",
   "execution_count": 19,
   "metadata": {},
   "outputs": [],
   "source": [
    "jang = mysql.connector.connect(\n",
    "    host = \"endpoint_address\",\n",
    "    port = 3306,\n",
    "    user = \"jang\",\n",
    "    password = \"*******\",\n",
    "    database = \"AutoFarming\"\n",
    ")"
   ]
  }
 ],
 "metadata": {
  "kernelspec": {
   "display_name": "eda_venv",
   "language": "python",
   "name": "python3"
  },
  "language_info": {
   "codemirror_mode": {
    "name": "ipython",
    "version": 3
   },
   "file_extension": ".py",
   "mimetype": "text/x-python",
   "name": "python",
   "nbconvert_exporter": "python",
   "pygments_lexer": "ipython3",
   "version": "3.10.12"
  }
 },
 "nbformat": 4,
 "nbformat_minor": 2
}
