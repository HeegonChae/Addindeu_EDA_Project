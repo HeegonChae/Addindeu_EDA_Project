{
 "cells": [
  {
   "cell_type": "code",
   "execution_count": 1,
   "metadata": {},
   "outputs": [
    {
     "name": "stderr",
     "output_type": "stream",
     "text": [
      "/tmp/ipykernel_16142/495930524.py:1: DeprecationWarning: \n",
      "Pyarrow will become a required dependency of pandas in the next major release of pandas (pandas 3.0),\n",
      "(to allow more performant data types, such as the Arrow string type, and better interoperability with other libraries)\n",
      "but was not found to be installed on your system.\n",
      "If this would cause problems for you,\n",
      "please provide us feedback at https://github.com/pandas-dev/pandas/issues/54466\n",
      "        \n",
      "  import pandas as pd\n"
     ]
    }
   ],
   "source": [
    "import pandas as pd\n",
    "import numpy as np\n",
    "import matplotlib.pyplot as plt\n",
    "import koreanize_matplotlib\n",
    "import seaborn as sns\n",
    "from selenium import webdriver\n",
    "from selenium.webdriver.chrome.service import Service\n",
    "from selenium.webdriver.common.by import By\n",
    "from selenium.webdriver.common.action_chains import ActionChains\n",
    "from selenium.webdriver.support.wait import WebDriverWait\n",
    "from selenium.webdriver.support import expected_conditions as EC\n",
    "from selenium.webdriver.common.keys import Keys\n",
    "import time\n",
    "import webbrowser\n",
    "import folium\n",
    "import googlemaps\n",
    "import mysql.connector"
   ]
  },
  {
   "cell_type": "markdown",
   "metadata": {},
   "source": [
    "### 1. 생과일 vs 건조과일 수입 물량 비교"
   ]
  },
  {
   "cell_type": "code",
   "execution_count": 45,
   "metadata": {},
   "outputs": [],
   "source": [
    "url = \"https://www.bandtrass.or.kr/customs/total.do?command=CUS001View&viewCode=CUS00201\"\n",
    "\n",
    "driver = webdriver.Chrome(service=Service('../driver/chromedriver-linux64/chromedriver'))\n",
    "\n",
    "driver.get(url)\n",
    "time.sleep(1)"
   ]
  },
  {
   "cell_type": "code",
   "execution_count": 46,
   "metadata": {},
   "outputs": [],
   "source": [
    "GOODS_DIV =driver.find_element(By.ID, 'GODS_DIV')\n",
    "GOODS_DIV.click()\n",
    "GOODS_TYPE = WebDriverWait(driver, timeout=10).until(EC.visibility_of_element_located((By.ID, \"GODS_DIV_select\"))) \n",
    "GOODS_TYPE.click()\n",
    "three = GOODS_TYPE.find_elements(By.TAG_NAME, 'option')\n",
    "three[1].click()"
   ]
  },
  {
   "cell_type": "markdown",
   "metadata": {},
   "source": [
    "#### 웹 크롤링\n",
    "##### 품목 검색하기 ~ 새로운 창 확인"
   ]
  },
  {
   "cell_type": "code",
   "execution_count": 17,
   "metadata": {},
   "outputs": [],
   "source": [
    "def Search_Item():\n",
    "    selector = \"#POPUP1\"\n",
    "    elem = driver.find_element(By.CSS_SELECTOR, selector)\n",
    "    elem.click()\n",
    "\n",
    "    # Store the ID of the original window\n",
    "    original_window = driver.current_window_handle\n",
    "    print(f'Original window: {original_window}')\n",
    "    print('=====================================')\n",
    "    # Click the link which opens in a new window\n",
    "    selector = \"#POPUP1\"\n",
    "    elem = driver.find_element(By.CSS_SELECTOR, selector)\n",
    "    elem.click()\n",
    "\n",
    "    # Wait for the new window or tab\n",
    "    WebDriverWait(driver, timeout=10).until(EC.number_of_windows_to_be(2))\n",
    "\n",
    "    # Loop through until we find a new window handle\n",
    "    for window_handle in driver.window_handles:\n",
    "        if window_handle != original_window:\n",
    "            driver.switch_to.window(window_handle)\n",
    "            print('Switched!!')\n",
    "            print(f'New window: {window_handle}')\n",
    "            break\n",
    "\n",
    "    return original_window"
   ]
  },
  {
   "cell_type": "code",
   "execution_count": 18,
   "metadata": {},
   "outputs": [
    {
     "name": "stdout",
     "output_type": "stream",
     "text": [
      "Original window: 6C44BE26FBEB582C3A4A19DEF8B10A11\n",
      "=====================================\n",
      "Switched!!\n",
      "New window: 03F5BD770548BCFCA3B8B6B20424A21F\n"
     ]
    }
   ],
   "source": [
    "original_window = Search_Item()"
   ]
  },
  {
   "cell_type": "markdown",
   "metadata": {},
   "source": [
    "### 새로운 창 ~ 품목 코드 번호 조회 완료"
   ]
  },
  {
   "cell_type": "markdown",
   "metadata": {},
   "source": [
    "#### 1. 건조사과"
   ]
  },
  {
   "cell_type": "code",
   "execution_count": 19,
   "metadata": {},
   "outputs": [],
   "source": [
    "def New_Window(li, og):\n",
    "    # 새로운 창\n",
    "    vsc_initialized = driver.find_element(By.CSS_SELECTOR, \"body\")\n",
    "    # HS CODE 2자리\n",
    "    HS_CODE_2 = vsc_initialized.find_element(By.ID, 'tb_list1')\n",
    "\n",
    "    # 품목명 선택\n",
    "    item_category = WebDriverWait(HS_CODE_2, timeout=10).until(EC.visibility_of_element_located((By.LINK_TEXT, li[0])))\n",
    "    item_category.click()\n",
    "\n",
    "    # HS CODE 4자리\n",
    "    HS_CODE_4 = WebDriverWait(vsc_initialized, timeout=10).until(EC.visibility_of_element_located((By.ID, \"tb_list4\")))\n",
    "    code_num_1st = WebDriverWait(HS_CODE_4, timeout=10).until(EC.visibility_of_element_located((By.LINK_TEXT, li[1])))\n",
    "    code_num_1st.click()\n",
    "\n",
    "    # HS CODE 6자리\n",
    "    HS_CODE_6 = WebDriverWait(vsc_initialized, timeout=10).until(EC.visibility_of_element_located((By.ID, \"tb_list6\")))\n",
    "    code_num_2nd = WebDriverWait(HS_CODE_6, timeout=10).until(EC.visibility_of_element_located((By.LINK_TEXT, li[2])))\n",
    "    code_num_2nd.click()\n",
    "\n",
    "    # HS CODE 10자리\n",
    "    HS_CODE_10 = WebDriverWait(vsc_initialized, timeout=10).until(EC.visibility_of_element_located((By.ID, \"tb_list10\")))\n",
    "    item = WebDriverWait(HS_CODE_10, timeout=10).until(EC.visibility_of_element_located((By.LINK_TEXT, li[3])))\n",
    "    item.click()\n",
    "\n",
    "    # 선택한 HSCODE\n",
    "    tbody_Select = WebDriverWait(vsc_initialized, timeout=10).until(EC.visibility_of_element_located((By.ID, \"tbody_Select\")))\n",
    "    research_result = tbody_Select.text.split(' ')[-1]\n",
    "\n",
    "    # 선택적용 버튼\n",
    "    apply_bt = WebDriverWait(vsc_initialized, timeout=10).until(EC.visibility_of_element_located((By.CSS_SELECTOR, \"#wrap > div > div.tb_in_wrap > div > p:nth-child(2) > button\")))\n",
    "    apply_bt.click()\n",
    "\n",
    "    # 원래 창 복귀\n",
    "    driver.switch_to.window(og)\n",
    "    print('Switched!!')\n",
    "    \n",
    "    # 확인\n",
    "    item_code = WebDriverWait(driver, timeout=10).until(EC.visibility_of_element_located((By.ID, \"FILTER1_CODE\")))\n",
    "    print(item_code.text)\n",
    "\n"
   ]
  },
  {
   "cell_type": "code",
   "execution_count": 20,
   "metadata": {},
   "outputs": [
    {
     "name": "stdout",
     "output_type": "stream",
     "text": [
      "Switched!!\n",
      "0813300000\n"
     ]
    }
   ],
   "source": [
    "li = [\"과실·견과류\", \"0813\", \"081330\", \"사과\"]\n",
    "New_Window(li, original_window)"
   ]
  },
  {
   "cell_type": "markdown",
   "metadata": {},
   "source": [
    "#### 원하는 연도 선택"
   ]
  },
  {
   "cell_type": "code",
   "execution_count": 21,
   "metadata": {},
   "outputs": [],
   "source": [
    "BASE_YEAR = driver.find_element(By.ID, 'BASE_YEAR')\n",
    "BASE_YEAR.click()\n",
    "YEARS = BASE_YEAR.find_elements(By.TAG_NAME, 'option')\n",
    "#len(YEARS) 2024 ~ 2000"
   ]
  },
  {
   "cell_type": "markdown",
   "metadata": {},
   "source": [
    "#### 2000 ~ 2024년 품목 무게 뽑기"
   ]
  },
  {
   "cell_type": "code",
   "execution_count": 22,
   "metadata": {},
   "outputs": [],
   "source": [
    "def Extract_item_kg(YEARS):\n",
    "    item_kg_list=[]\n",
    "    \n",
    "    for y in YEARS:\n",
    "        y.click()\n",
    "        do_research = WebDriverWait(driver, timeout=10).until(EC.visibility_of_element_located((By.CLASS_NAME, \"btn.btn-ok.btn-lg\"))) \n",
    "        do_research.click()\n",
    "        item_info = WebDriverWait(driver, timeout=50).until(EC.visibility_of_element_located((By.ID, \"1\")))\n",
    "        item_info = item_info.find_elements(By.TAG_NAME, 'td')\n",
    "        item_kg = item_info[-1].text\n",
    "        item_kg = item_kg.replace(',', '')\n",
    "        item_kg_list.append(float(item_kg))\n",
    "\n",
    "    #print(len(item_kg_list))\n",
    "\n",
    "    return item_kg_list"
   ]
  },
  {
   "cell_type": "code",
   "execution_count": 92,
   "metadata": {},
   "outputs": [],
   "source": [
    "dried_kg_list = Extract_item_kg(YEARS)\n",
    "year_list = [y for y in range(2024,1999,-1)]"
   ]
  },
  {
   "cell_type": "markdown",
   "metadata": {},
   "source": [
    "#### 2. 생사과"
   ]
  },
  {
   "cell_type": "code",
   "execution_count": 24,
   "metadata": {},
   "outputs": [
    {
     "name": "stdout",
     "output_type": "stream",
     "text": [
      "Original window: 6C44BE26FBEB582C3A4A19DEF8B10A11\n",
      "=====================================\n",
      "Switched!!\n",
      "New window: C53873026F8FB2816224F274DCC5746E\n"
     ]
    }
   ],
   "source": [
    "original_window = Search_Item()"
   ]
  },
  {
   "cell_type": "code",
   "execution_count": 25,
   "metadata": {},
   "outputs": [
    {
     "name": "stdout",
     "output_type": "stream",
     "text": [
      "Switched!!\n",
      "0808100000\n"
     ]
    }
   ],
   "source": [
    "li = [\"과실·견과류\", \"0808\", \"080810\", \"사과\"]\n",
    "New_Window(li, original_window)"
   ]
  },
  {
   "cell_type": "code",
   "execution_count": 26,
   "metadata": {},
   "outputs": [],
   "source": [
    "BASE_YEAR = driver.find_element(By.ID, 'BASE_YEAR')\n",
    "BASE_YEAR.click()\n",
    "YEARS = BASE_YEAR.find_elements(By.TAG_NAME, 'option')"
   ]
  },
  {
   "cell_type": "code",
   "execution_count": 27,
   "metadata": {},
   "outputs": [],
   "source": [
    "raw_kg_list = Extract_item_kg(YEARS)"
   ]
  },
  {
   "cell_type": "markdown",
   "metadata": {},
   "source": [
    "#### DF 만들기"
   ]
  },
  {
   "cell_type": "code",
   "execution_count": 28,
   "metadata": {},
   "outputs": [
    {
     "data": {
      "text/html": [
       "<div>\n",
       "<style scoped>\n",
       "    .dataframe tbody tr th:only-of-type {\n",
       "        vertical-align: middle;\n",
       "    }\n",
       "\n",
       "    .dataframe tbody tr th {\n",
       "        vertical-align: top;\n",
       "    }\n",
       "\n",
       "    .dataframe thead th {\n",
       "        text-align: right;\n",
       "    }\n",
       "</style>\n",
       "<table border=\"1\" class=\"dataframe\">\n",
       "  <thead>\n",
       "    <tr style=\"text-align: right;\">\n",
       "      <th></th>\n",
       "      <th>date</th>\n",
       "      <th>raw(kg)</th>\n",
       "      <th>dried(kg)</th>\n",
       "    </tr>\n",
       "  </thead>\n",
       "  <tbody>\n",
       "    <tr>\n",
       "      <th>0</th>\n",
       "      <td>2023</td>\n",
       "      <td>0.0</td>\n",
       "      <td>8803.28</td>\n",
       "    </tr>\n",
       "    <tr>\n",
       "      <th>1</th>\n",
       "      <td>2022</td>\n",
       "      <td>0.0</td>\n",
       "      <td>2935.34</td>\n",
       "    </tr>\n",
       "    <tr>\n",
       "      <th>2</th>\n",
       "      <td>2021</td>\n",
       "      <td>12.9</td>\n",
       "      <td>6229.53</td>\n",
       "    </tr>\n",
       "    <tr>\n",
       "      <th>3</th>\n",
       "      <td>2020</td>\n",
       "      <td>13230.1</td>\n",
       "      <td>2422.92</td>\n",
       "    </tr>\n",
       "    <tr>\n",
       "      <th>4</th>\n",
       "      <td>2019</td>\n",
       "      <td>13230.0</td>\n",
       "      <td>2397.04</td>\n",
       "    </tr>\n",
       "    <tr>\n",
       "      <th>5</th>\n",
       "      <td>2018</td>\n",
       "      <td>0.0</td>\n",
       "      <td>2973.25</td>\n",
       "    </tr>\n",
       "    <tr>\n",
       "      <th>6</th>\n",
       "      <td>2017</td>\n",
       "      <td>0.0</td>\n",
       "      <td>97.61</td>\n",
       "    </tr>\n",
       "    <tr>\n",
       "      <th>7</th>\n",
       "      <td>2016</td>\n",
       "      <td>30873.2</td>\n",
       "      <td>371.74</td>\n",
       "    </tr>\n",
       "    <tr>\n",
       "      <th>8</th>\n",
       "      <td>2015</td>\n",
       "      <td>80594.0</td>\n",
       "      <td>146.00</td>\n",
       "    </tr>\n",
       "    <tr>\n",
       "      <th>9</th>\n",
       "      <td>2014</td>\n",
       "      <td>1.0</td>\n",
       "      <td>5593.00</td>\n",
       "    </tr>\n",
       "    <tr>\n",
       "      <th>10</th>\n",
       "      <td>2013</td>\n",
       "      <td>0.0</td>\n",
       "      <td>1308.00</td>\n",
       "    </tr>\n",
       "    <tr>\n",
       "      <th>11</th>\n",
       "      <td>2012</td>\n",
       "      <td>25000.0</td>\n",
       "      <td>1195.00</td>\n",
       "    </tr>\n",
       "    <tr>\n",
       "      <th>12</th>\n",
       "      <td>2011</td>\n",
       "      <td>108335.0</td>\n",
       "      <td>8743.00</td>\n",
       "    </tr>\n",
       "    <tr>\n",
       "      <th>13</th>\n",
       "      <td>2010</td>\n",
       "      <td>24400.0</td>\n",
       "      <td>17288.00</td>\n",
       "    </tr>\n",
       "    <tr>\n",
       "      <th>14</th>\n",
       "      <td>2009</td>\n",
       "      <td>20.0</td>\n",
       "      <td>3655.00</td>\n",
       "    </tr>\n",
       "    <tr>\n",
       "      <th>15</th>\n",
       "      <td>2008</td>\n",
       "      <td>0.0</td>\n",
       "      <td>11029.00</td>\n",
       "    </tr>\n",
       "    <tr>\n",
       "      <th>16</th>\n",
       "      <td>2007</td>\n",
       "      <td>0.0</td>\n",
       "      <td>9187.00</td>\n",
       "    </tr>\n",
       "    <tr>\n",
       "      <th>17</th>\n",
       "      <td>2006</td>\n",
       "      <td>0.0</td>\n",
       "      <td>17880.00</td>\n",
       "    </tr>\n",
       "    <tr>\n",
       "      <th>18</th>\n",
       "      <td>2005</td>\n",
       "      <td>0.0</td>\n",
       "      <td>9214.00</td>\n",
       "    </tr>\n",
       "    <tr>\n",
       "      <th>19</th>\n",
       "      <td>2004</td>\n",
       "      <td>0.0</td>\n",
       "      <td>1525.00</td>\n",
       "    </tr>\n",
       "    <tr>\n",
       "      <th>20</th>\n",
       "      <td>2003</td>\n",
       "      <td>0.0</td>\n",
       "      <td>18611.00</td>\n",
       "    </tr>\n",
       "    <tr>\n",
       "      <th>21</th>\n",
       "      <td>2002</td>\n",
       "      <td>17988.0</td>\n",
       "      <td>5180.00</td>\n",
       "    </tr>\n",
       "    <tr>\n",
       "      <th>22</th>\n",
       "      <td>2001</td>\n",
       "      <td>197018.0</td>\n",
       "      <td>6711.00</td>\n",
       "    </tr>\n",
       "    <tr>\n",
       "      <th>23</th>\n",
       "      <td>2000</td>\n",
       "      <td>6750.0</td>\n",
       "      <td>3187.00</td>\n",
       "    </tr>\n",
       "  </tbody>\n",
       "</table>\n",
       "</div>"
      ],
      "text/plain": [
       "    date   raw(kg)  dried(kg)\n",
       "0   2023       0.0    8803.28\n",
       "1   2022       0.0    2935.34\n",
       "2   2021      12.9    6229.53\n",
       "3   2020   13230.1    2422.92\n",
       "4   2019   13230.0    2397.04\n",
       "5   2018       0.0    2973.25\n",
       "6   2017       0.0      97.61\n",
       "7   2016   30873.2     371.74\n",
       "8   2015   80594.0     146.00\n",
       "9   2014       1.0    5593.00\n",
       "10  2013       0.0    1308.00\n",
       "11  2012   25000.0    1195.00\n",
       "12  2011  108335.0    8743.00\n",
       "13  2010   24400.0   17288.00\n",
       "14  2009      20.0    3655.00\n",
       "15  2008       0.0   11029.00\n",
       "16  2007       0.0    9187.00\n",
       "17  2006       0.0   17880.00\n",
       "18  2005       0.0    9214.00\n",
       "19  2004       0.0    1525.00\n",
       "20  2003       0.0   18611.00\n",
       "21  2002   17988.0    5180.00\n",
       "22  2001  197018.0    6711.00\n",
       "23  2000    6750.0    3187.00"
      ]
     },
     "execution_count": 28,
     "metadata": {},
     "output_type": "execute_result"
    }
   ],
   "source": [
    "df_apple_raw_dried = pd.DataFrame({'date': year_list, 'raw(kg)': raw_kg_list, 'dried(kg)': dried_kg_list})\n",
    "\n",
    "df_apple_raw_dried.drop([0], axis=0, inplace=True)\n",
    "df_apple_raw_dried = df_apple_raw_dried.reset_index(drop=True)\n",
    "df_apple_raw_dried"
   ]
  },
  {
   "cell_type": "code",
   "execution_count": 76,
   "metadata": {},
   "outputs": [
    {
     "data": {
      "image/png": "[encoded data removed]",
      "text/plain": [
       "<Figure size 1200x800 with 1 Axes>"
      ]
     },
     "metadata": {},
     "output_type": "display_data"
    }
   ],
   "source": [
    "# 그래프의 사이즈 설정\n",
    "plt.figure(figsize=(12, 8))\n",
    "\n",
    "plt.plot(year_list[:10], raw_kg_list[:10], color='#e35f62',\n",
    "         marker='o', linestyle='--', label = '생과일')\n",
    "\n",
    "plt.plot(year_list[:10], dried_kg_list[:10], color='#2ca02c',\n",
    "         marker='v', linestyle='-.', label = '건조과일')\n",
    "\n",
    "# x축 라벨 회전\n",
    "plt.xticks(rotation=45, ha='right')\n",
    "# x축 간격을 1로 설정\n",
    "plt.xticks(year_list[:10])\n",
    "\n",
    "# 제목과 축 이름 설정\n",
    "plt.title('생 vs 건조 과일 수입 물량\\n(2015~2023)')\n",
    "plt.xlabel('연도')\n",
    "plt.ylabel('수입 물량(kg)')\n",
    "\n",
    "# 범례 추가\n",
    "plt.legend()\n",
    "\n",
    "# 그래프 표시\n",
    "plt.show()"
   ]
  },
  {
   "cell_type": "markdown",
   "metadata": {},
   "source": [
    "### 2. 생과일 vs 냉동과일 수입 물량 비교"
   ]
  },
  {
   "cell_type": "code",
   "execution_count": 53,
   "metadata": {},
   "outputs": [
    {
     "name": "stdout",
     "output_type": "stream",
     "text": [
      "Original window: 64591747529B9F171C1892D7D1B5DEBA\n",
      "=====================================\n",
      "Switched!!\n",
      "New window: E0439C9C9ABC15CE39A5980CD0B8464C\n"
     ]
    }
   ],
   "source": [
    "original_window = Search_Item()"
   ]
  },
  {
   "cell_type": "markdown",
   "metadata": {},
   "source": [
    "#### 1. 생_초본류 딸기"
   ]
  },
  {
   "cell_type": "code",
   "execution_count": 54,
   "metadata": {},
   "outputs": [
    {
     "name": "stdout",
     "output_type": "stream",
     "text": [
      "Switched!!\n",
      "0810100000\n"
     ]
    }
   ],
   "source": [
    "li = [\"과실·견과류\", \"0810\", \"081010\", \"초본류 딸기\"]\n",
    "New_Window(li, original_window)"
   ]
  },
  {
   "cell_type": "code",
   "execution_count": 55,
   "metadata": {},
   "outputs": [],
   "source": [
    "BASE_YEAR = driver.find_element(By.ID, 'BASE_YEAR')\n",
    "BASE_YEAR.click()\n",
    "YEARS = BASE_YEAR.find_elements(By.TAG_NAME, 'option')\n",
    "#len(YEARS) 2024 ~ 2000"
   ]
  },
  {
   "cell_type": "code",
   "execution_count": 89,
   "metadata": {},
   "outputs": [],
   "source": [
    "raw_berry_kg_list = Extract_item_kg(YEARS)\n",
    "year_list = [y for y in range(2023,1999,-1)]"
   ]
  },
  {
   "cell_type": "markdown",
   "metadata": {},
   "source": [
    "#### 2. 냉동_초본류 딸기 "
   ]
  },
  {
   "cell_type": "code",
   "execution_count": 57,
   "metadata": {},
   "outputs": [
    {
     "name": "stdout",
     "output_type": "stream",
     "text": [
      "Original window: 64591747529B9F171C1892D7D1B5DEBA\n",
      "=====================================\n",
      "Switched!!\n",
      "New window: F3D1C19C1479CF705CEE73F7DABCACEC\n"
     ]
    }
   ],
   "source": [
    "original_window = Search_Item()"
   ]
  },
  {
   "cell_type": "code",
   "execution_count": 58,
   "metadata": {},
   "outputs": [
    {
     "name": "stdout",
     "output_type": "stream",
     "text": [
      "Switched!!\n",
      "0811100000\n"
     ]
    }
   ],
   "source": [
    "li = [\"과실·견과류\", \"0811\", \"081110\", \"초본류 딸기\"]\n",
    "New_Window(li, original_window)"
   ]
  },
  {
   "cell_type": "code",
   "execution_count": 59,
   "metadata": {},
   "outputs": [],
   "source": [
    "BASE_YEAR = driver.find_element(By.ID, 'BASE_YEAR')\n",
    "BASE_YEAR.click()\n",
    "YEARS = BASE_YEAR.find_elements(By.TAG_NAME, 'option')\n",
    "#len(YEARS) 2024 ~ 2000"
   ]
  },
  {
   "cell_type": "code",
   "execution_count": 60,
   "metadata": {},
   "outputs": [],
   "source": [
    "frozen_berry_kg_list = Extract_item_kg(YEARS)"
   ]
  },
  {
   "cell_type": "markdown",
   "metadata": {},
   "source": [
    "#### DF 만들기"
   ]
  },
  {
   "cell_type": "code",
   "execution_count": 62,
   "metadata": {},
   "outputs": [
    {
     "data": {
      "text/html": [
       "<div>\n",
       "<style scoped>\n",
       "    .dataframe tbody tr th:only-of-type {\n",
       "        vertical-align: middle;\n",
       "    }\n",
       "\n",
       "    .dataframe tbody tr th {\n",
       "        vertical-align: top;\n",
       "    }\n",
       "\n",
       "    .dataframe thead th {\n",
       "        text-align: right;\n",
       "    }\n",
       "</style>\n",
       "<table border=\"1\" class=\"dataframe\">\n",
       "  <thead>\n",
       "    <tr style=\"text-align: right;\">\n",
       "      <th></th>\n",
       "      <th>date</th>\n",
       "      <th>raw(kg)</th>\n",
       "      <th>frozen(kg)</th>\n",
       "    </tr>\n",
       "  </thead>\n",
       "  <tbody>\n",
       "    <tr>\n",
       "      <th>0</th>\n",
       "      <td>2023</td>\n",
       "      <td>25.22</td>\n",
       "      <td>12771256.35</td>\n",
       "    </tr>\n",
       "    <tr>\n",
       "      <th>1</th>\n",
       "      <td>2022</td>\n",
       "      <td>0.00</td>\n",
       "      <td>12216780.05</td>\n",
       "    </tr>\n",
       "    <tr>\n",
       "      <th>2</th>\n",
       "      <td>2021</td>\n",
       "      <td>0.00</td>\n",
       "      <td>9015864.58</td>\n",
       "    </tr>\n",
       "    <tr>\n",
       "      <th>3</th>\n",
       "      <td>2020</td>\n",
       "      <td>0.00</td>\n",
       "      <td>7887150.35</td>\n",
       "    </tr>\n",
       "    <tr>\n",
       "      <th>4</th>\n",
       "      <td>2019</td>\n",
       "      <td>0.00</td>\n",
       "      <td>8478942.33</td>\n",
       "    </tr>\n",
       "    <tr>\n",
       "      <th>5</th>\n",
       "      <td>2018</td>\n",
       "      <td>1.50</td>\n",
       "      <td>8726409.29</td>\n",
       "    </tr>\n",
       "    <tr>\n",
       "      <th>6</th>\n",
       "      <td>2017</td>\n",
       "      <td>0.00</td>\n",
       "      <td>8848786.09</td>\n",
       "    </tr>\n",
       "    <tr>\n",
       "      <th>7</th>\n",
       "      <td>2016</td>\n",
       "      <td>2.85</td>\n",
       "      <td>8792261.79</td>\n",
       "    </tr>\n",
       "    <tr>\n",
       "      <th>8</th>\n",
       "      <td>2015</td>\n",
       "      <td>0.00</td>\n",
       "      <td>7658783.00</td>\n",
       "    </tr>\n",
       "    <tr>\n",
       "      <th>9</th>\n",
       "      <td>2014</td>\n",
       "      <td>0.00</td>\n",
       "      <td>7650890.00</td>\n",
       "    </tr>\n",
       "    <tr>\n",
       "      <th>10</th>\n",
       "      <td>2013</td>\n",
       "      <td>0.00</td>\n",
       "      <td>8689707.00</td>\n",
       "    </tr>\n",
       "    <tr>\n",
       "      <th>11</th>\n",
       "      <td>2012</td>\n",
       "      <td>27.00</td>\n",
       "      <td>9827286.00</td>\n",
       "    </tr>\n",
       "    <tr>\n",
       "      <th>12</th>\n",
       "      <td>2011</td>\n",
       "      <td>0.00</td>\n",
       "      <td>8705519.00</td>\n",
       "    </tr>\n",
       "    <tr>\n",
       "      <th>13</th>\n",
       "      <td>2010</td>\n",
       "      <td>0.00</td>\n",
       "      <td>6045459.00</td>\n",
       "    </tr>\n",
       "    <tr>\n",
       "      <th>14</th>\n",
       "      <td>2009</td>\n",
       "      <td>24.00</td>\n",
       "      <td>3313227.00</td>\n",
       "    </tr>\n",
       "    <tr>\n",
       "      <th>15</th>\n",
       "      <td>2008</td>\n",
       "      <td>19.00</td>\n",
       "      <td>6116472.00</td>\n",
       "    </tr>\n",
       "    <tr>\n",
       "      <th>16</th>\n",
       "      <td>2007</td>\n",
       "      <td>0.00</td>\n",
       "      <td>6460280.00</td>\n",
       "    </tr>\n",
       "    <tr>\n",
       "      <th>17</th>\n",
       "      <td>2006</td>\n",
       "      <td>0.00</td>\n",
       "      <td>4808953.00</td>\n",
       "    </tr>\n",
       "    <tr>\n",
       "      <th>18</th>\n",
       "      <td>2005</td>\n",
       "      <td>0.00</td>\n",
       "      <td>3952756.00</td>\n",
       "    </tr>\n",
       "    <tr>\n",
       "      <th>19</th>\n",
       "      <td>2004</td>\n",
       "      <td>0.00</td>\n",
       "      <td>3851534.00</td>\n",
       "    </tr>\n",
       "    <tr>\n",
       "      <th>20</th>\n",
       "      <td>2003</td>\n",
       "      <td>0.00</td>\n",
       "      <td>2042129.00</td>\n",
       "    </tr>\n",
       "    <tr>\n",
       "      <th>21</th>\n",
       "      <td>2002</td>\n",
       "      <td>0.00</td>\n",
       "      <td>1908730.00</td>\n",
       "    </tr>\n",
       "    <tr>\n",
       "      <th>22</th>\n",
       "      <td>2001</td>\n",
       "      <td>842.00</td>\n",
       "      <td>1403383.00</td>\n",
       "    </tr>\n",
       "    <tr>\n",
       "      <th>23</th>\n",
       "      <td>2000</td>\n",
       "      <td>233.00</td>\n",
       "      <td>1797045.00</td>\n",
       "    </tr>\n",
       "  </tbody>\n",
       "</table>\n",
       "</div>"
      ],
      "text/plain": [
       "    date  raw(kg)   frozen(kg)\n",
       "0   2023    25.22  12771256.35\n",
       "1   2022     0.00  12216780.05\n",
       "2   2021     0.00   9015864.58\n",
       "3   2020     0.00   7887150.35\n",
       "4   2019     0.00   8478942.33\n",
       "5   2018     1.50   8726409.29\n",
       "6   2017     0.00   8848786.09\n",
       "7   2016     2.85   8792261.79\n",
       "8   2015     0.00   7658783.00\n",
       "9   2014     0.00   7650890.00\n",
       "10  2013     0.00   8689707.00\n",
       "11  2012    27.00   9827286.00\n",
       "12  2011     0.00   8705519.00\n",
       "13  2010     0.00   6045459.00\n",
       "14  2009    24.00   3313227.00\n",
       "15  2008    19.00   6116472.00\n",
       "16  2007     0.00   6460280.00\n",
       "17  2006     0.00   4808953.00\n",
       "18  2005     0.00   3952756.00\n",
       "19  2004     0.00   3851534.00\n",
       "20  2003     0.00   2042129.00\n",
       "21  2002     0.00   1908730.00\n",
       "22  2001   842.00   1403383.00\n",
       "23  2000   233.00   1797045.00"
      ]
     },
     "execution_count": 62,
     "metadata": {},
     "output_type": "execute_result"
    }
   ],
   "source": [
    "df_berry_raw_frozen = pd.DataFrame({'date': year_list, 'raw(kg)': raw_berry_kg_list, 'frozen(kg)': frozen_berry_kg_list})\n",
    "\n",
    "df_berry_raw_frozen.drop([0], axis=0, inplace=True)\n",
    "df_berry_raw_frozen = df_berry_raw_frozen.reset_index(drop=True)\n",
    "df_berry_raw_frozen"
   ]
  },
  {
   "cell_type": "code",
   "execution_count": null,
   "metadata": {},
   "outputs": [],
   "source": [
    "# 그래프의 사이즈 설정\n",
    "plt.figure(figsize=(20, 10))\n",
    "\n",
    "plt.plot(year_list[:10], raw_berry_kg_list[:10], color='#e35f62',\n",
    "         marker='o', linestyle='--', label = '생과일')\n",
    "\n",
    "plt.plot(year_list[:10], frozen_berry_kg_list[:10], color='#2ca02c',\n",
    "         marker='v', linestyle='-.', label = '냉동과일')\n",
    "\n",
    "# x축 라벨 회전\n",
    "plt.xticks(rotation=45, ha='right')\n",
    "# x축 간격을 1로 설정\n",
    "plt.xticks(year_list[:10])\n",
    "\n",
    "# 제목과 축 이름 설정\n",
    "plt.title('생 vs 냉동 과일 수입 물량\\n(2015~2023)')\n",
    "plt.xlabel('연도')\n",
    "plt.ylabel('수입 물량(x10^7kg)')\n",
    "\n",
    "# 범례 추가\n",
    "plt.legend()\n",
    "\n",
    "# 그래프 표시\n",
    "plt.show()"
   ]
  },
  {
   "cell_type": "code",
   "execution_count": 94,
   "metadata": {},
   "outputs": [],
   "source": [
    "driver.close()"
   ]
  }
 ],
 "metadata": {
  "kernelspec": {
   "display_name": "eda_venv",
   "language": "python",
   "name": "python3"
  },
  "language_info": {
   "codemirror_mode": {
    "name": "ipython",
    "version": 3
   },
   "file_extension": ".py",
   "mimetype": "text/x-python",
   "name": "python",
   "nbconvert_exporter": "python",
   "pygments_lexer": "ipython3",
   "version": "3.10.12"
  }
 },
 "nbformat": 4,
 "nbformat_minor": 2
}
